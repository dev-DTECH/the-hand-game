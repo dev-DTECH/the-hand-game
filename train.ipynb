{
 "cells": [
  {
   "cell_type": "code",
   "execution_count": 14,
   "metadata": {
    "collapsed": true
   },
   "outputs": [],
   "source": [
    "import tensorflow as tf\n",
    "import numpy as np\n",
    "from sklearn.model_selection import train_test_split\n"
   ]
  },
  {
   "cell_type": "code",
   "execution_count": 38,
   "outputs": [
    {
     "name": "stdout",
     "output_type": "stream",
     "text": [
      "(267, 42)\n"
     ]
    }
   ],
   "source": [
    "# hand_ds = tf.data.experimental.make_csv_dataset(\n",
    "#     'data.csv',\n",
    "#     batch_size=5, # Artificially small to make examples easier to show.\n",
    "#     label_name='label',\n",
    "#     num_epochs=1,\n",
    "#     ignore_errors=True,)\n",
    "data_x = np.loadtxt(\"data.csv\", delimiter=\",\", dtype=float, usecols=list(range(1, (21 * 2) + 1)))\n",
    "data_y = np.loadtxt(\"data.csv\", delimiter=\",\", dtype=float, usecols=(0))\n",
    "train_x, test_x, train_y, test_y = train_test_split(data_x, data_y, train_size=0.75, random_state=69)\n",
    "\n",
    "print(train_x.shape)"
   ],
   "metadata": {
    "collapsed": false
   }
  },
  {
   "cell_type": "code",
   "execution_count": 52,
   "outputs": [
    {
     "name": "stdout",
     "output_type": "stream",
     "text": [
      "Model: \"sequential_15\"\n",
      "_________________________________________________________________\n",
      " Layer (type)                Output Shape              Param #   \n",
      "=================================================================\n",
      " dense_75 (Dense)            (None, 64)                2752      \n",
      "                                                                 \n",
      " dense_76 (Dense)            (None, 32)                2080      \n",
      "                                                                 \n",
      " dense_77 (Dense)            (None, 16)                528       \n",
      "                                                                 \n",
      " dense_78 (Dense)            (None, 8)                 136       \n",
      "                                                                 \n",
      " dense_79 (Dense)            (None, 1)                 9         \n",
      "                                                                 \n",
      "=================================================================\n",
      "Total params: 5,505\n",
      "Trainable params: 5,505\n",
      "Non-trainable params: 0\n",
      "_________________________________________________________________\n"
     ]
    }
   ],
   "source": [
    "model=tf.keras.models.Sequential([\n",
    "    tf.keras.layers.Input((42,)),\n",
    "    tf.keras.layers.Dense(64,activation='relu'),\n",
    "    tf.keras.layers.Dense(32,activation='relu'),\n",
    "    tf.keras.layers.Dense(16,activation='relu'),\n",
    "    tf.keras.layers.Dense(8,activation='relu'),\n",
    "    tf.keras.layers.Dense(1,activation='sigmoid')\n",
    "])\n",
    "model.compile(optimizer=tf.keras.optimizers.Adam(learning_rate=1e-3),\n",
    "              loss=tf.keras.losses.BinaryCrossentropy())\n",
    "model.summary()"
   ],
   "metadata": {
    "collapsed": false
   }
  },
  {
   "cell_type": "code",
   "execution_count": 53,
   "outputs": [
    {
     "name": "stdout",
     "output_type": "stream",
     "text": [
      "Epoch 1/20\n",
      "54/54 [==============================] - 1s 2ms/step - loss: 0.6443\n",
      "Epoch 2/20\n",
      "54/54 [==============================] - 0s 2ms/step - loss: 0.5218\n",
      "Epoch 3/20\n",
      "54/54 [==============================] - 0s 1ms/step - loss: 0.4308\n",
      "Epoch 4/20\n",
      "54/54 [==============================] - 0s 1ms/step - loss: 0.3597\n",
      "Epoch 5/20\n",
      "54/54 [==============================] - 0s 1ms/step - loss: 0.2859\n",
      "Epoch 6/20\n",
      "54/54 [==============================] - 0s 1ms/step - loss: 0.1794\n",
      "Epoch 7/20\n",
      "54/54 [==============================] - 0s 1ms/step - loss: 0.1026\n",
      "Epoch 8/20\n",
      "54/54 [==============================] - 0s 1ms/step - loss: 0.0729\n",
      "Epoch 9/20\n",
      "54/54 [==============================] - 0s 1ms/step - loss: 0.0504\n",
      "Epoch 10/20\n",
      "54/54 [==============================] - 0s 1ms/step - loss: 0.0414\n",
      "Epoch 11/20\n",
      "54/54 [==============================] - 0s 1ms/step - loss: 0.0445\n",
      "Epoch 12/20\n",
      "54/54 [==============================] - 0s 1ms/step - loss: 0.0266\n",
      "Epoch 13/20\n",
      "54/54 [==============================] - 0s 1ms/step - loss: 0.0182\n",
      "Epoch 14/20\n",
      "54/54 [==============================] - 0s 1ms/step - loss: 0.0381\n",
      "Epoch 15/20\n",
      "54/54 [==============================] - 0s 1ms/step - loss: 0.0448\n",
      "Epoch 16/20\n",
      "54/54 [==============================] - 0s 1ms/step - loss: 0.0228\n",
      "Epoch 17/20\n",
      "54/54 [==============================] - 0s 1ms/step - loss: 0.0439\n",
      "Epoch 18/20\n",
      "54/54 [==============================] - 0s 1ms/step - loss: 0.0098\n",
      "Epoch 19/20\n",
      "54/54 [==============================] - 0s 1ms/step - loss: 0.0078\n",
      "Epoch 20/20\n",
      "54/54 [==============================] - 0s 1ms/step - loss: 0.0079\n"
     ]
    }
   ],
   "source": [
    "history = model.fit(x=train_x,y=train_y,batch_size=5,shuffle=True,epochs=20)"
   ],
   "metadata": {
    "collapsed": false
   }
  },
  {
   "cell_type": "code",
   "execution_count": 54,
   "outputs": [
    {
     "data": {
      "text/plain": "<Figure size 640x480 with 1 Axes>",
      "image/png": "[encoded data removed]"
     },
     "metadata": {},
     "output_type": "display_data"
    }
   ],
   "source": [
    "import matplotlib.pyplot as plt\n",
    "plt.plot(history.epoch, history.history[\"loss\"], 'g', label='Training loss')\n",
    "plt.title('Training loss')\n",
    "plt.xlabel('Epochs')\n",
    "plt.ylabel('Loss')\n",
    "plt.legend()\n",
    "plt.show()\n"
   ],
   "metadata": {
    "collapsed": false
   }
  },
  {
   "cell_type": "code",
   "execution_count": 56,
   "outputs": [],
   "source": [
    "model.save(\"models/v1.h5\")"
   ],
   "metadata": {
    "collapsed": false
   }
  },
  {
   "cell_type": "code",
   "execution_count": null,
   "outputs": [],
   "source": [],
   "metadata": {
    "collapsed": false
   }
  }
 ],
 "metadata": {
  "kernelspec": {
   "display_name": "Python 3",
   "language": "python",
   "name": "python3"
  },
  "language_info": {
   "codemirror_mode": {
    "name": "ipython",
    "version": 2
   },
   "file_extension": ".py",
   "mimetype": "text/x-python",
   "name": "python",
   "nbconvert_exporter": "python",
   "pygments_lexer": "ipython2",
   "version": "2.7.6"
  }
 },
 "nbformat": 4,
 "nbformat_minor": 0
}
